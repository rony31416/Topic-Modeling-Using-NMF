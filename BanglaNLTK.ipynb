{
  "nbformat": 4,
  "nbformat_minor": 0,
  "metadata": {
    "colab": {
      "provenance": [],
      "authorship_tag": "ABX9TyPfJzmQqQHDmbT2EzhcazrV",
      "include_colab_link": true
    },
    "kernelspec": {
      "name": "python3",
      "display_name": "Python 3"
    },
    "language_info": {
      "name": "python"
    }
  },
  "cells": [
    {
      "cell_type": "markdown",
      "metadata": {
        "id": "view-in-github",
        "colab_type": "text"
      },
      "source": [
        "<a href=\"https://colab.research.google.com/github/rony31416/Topic-Modeling-Using-NMF/blob/main/BanglaNLTK.ipynb\" target=\"_parent\"><img src=\"https://colab.research.google.com/assets/colab-badge.svg\" alt=\"Open In Colab\"/></a>"
      ]
    },
    {
      "cell_type": "markdown",
      "source": [],
      "metadata": {
        "id": "luiZHELuylph"
      }
    },
    {
      "cell_type": "markdown",
      "source": [
        "## use **`!pip freeze`** for installed packages"
      ],
      "metadata": {
        "id": "l13MxAb4yn6l"
      }
    },
    {
      "cell_type": "code",
      "source": [
        "!pip freeze"
      ],
      "metadata": {
        "id": "FCJpM_1llMcn"
      },
      "execution_count": null,
      "outputs": []
    },
    {
      "cell_type": "markdown",
      "source": [],
      "metadata": {
        "id": "LKWa_th67krz"
      }
    },
    {
      "cell_type": "markdown",
      "source": [
        "I don't Why **bnltk** is not working! So let's install **`banglanltk`** pakage\n",
        "using **$ `pip install banglanltk`**"
      ],
      "metadata": {
        "id": "bCCf2mmczXgp"
      }
    },
    {
      "cell_type": "code",
      "source": [
        "pip install banglanltk\n"
      ],
      "metadata": {
        "colab": {
          "base_uri": "https://localhost:8080/"
        },
        "id": "vu5Uc1LMnPsM",
        "outputId": "4723aacd-fbab-470a-894e-886bb7fe2feb"
      },
      "execution_count": 17,
      "outputs": [
        {
          "output_type": "stream",
          "name": "stdout",
          "text": [
            "Requirement already satisfied: banglanltk in /usr/local/lib/python3.10/dist-packages (0.0.4)\n"
          ]
        }
      ]
    },
    {
      "cell_type": "markdown",
      "source": [
        "\n",
        "# **Cleaning Text**\n",
        "1. Import the **`banglanltk`** library as **`bn`**.\n",
        "\n",
        "2. Called a function named **`clean_text`** that takes a **`Bangla string`** as input.\n",
        "\n",
        "3. Inside the function, define a list of Bangla punctuation marks to be removed.\n",
        "  \n",
        "```\n",
        "punctuation_marks = ['।', ',', '.', '?', '!', '…', ':', ';', '@', '#', '$', '^', '&', '*', '(', ')', '{', '}', '[', ']', \"'\", '‘', '’', '“', '”', '-', '_']\n",
        "```\n",
        "4. print the clean text after removing all **`punctuation_marks`**.\n",
        "\n",
        "\n",
        "\n",
        "\n"
      ],
      "metadata": {
        "id": "NiuM8yxg4Ahu"
      }
    },
    {
      "cell_type": "code",
      "source": [
        "import banglanltk as bn\n",
        "s = 'আমি খুব ভালো আছি! আমি কোনো সমস্যার সম্মুখে নেই? হয়তো থামে যাবে না()... আমি আপনাদের কাছে এসেছি: \"কেমন আছেন?\" এবং এটা দেখে আশা করছি - সবাই ভালোই আছেন!'\n",
        "\n",
        "print(bn.clean_text(s))"
      ],
      "metadata": {
        "colab": {
          "base_uri": "https://localhost:8080/"
        },
        "id": "zbwSV6P2022L",
        "outputId": "5f2087c6-ffae-465c-bdc4-bbc92f598258"
      },
      "execution_count": 35,
      "outputs": [
        {
          "output_type": "stream",
          "name": "stdout",
          "text": [
            "আমি খুব ভালো আছি আমি কোনো সমস্যার সম্মুখে নেই হয়তো থামে যাবে না আমি আপনাদের কাছে এসেছি কেমন আছেন এবং এটা দেখে আশা করছি  সবাই ভালোই আছেন\n"
          ]
        }
      ]
    }
  ]
}