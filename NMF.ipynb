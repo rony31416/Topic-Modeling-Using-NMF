{
  "cells": [
    {
      "cell_type": "code",
      "execution_count": 7,
      "metadata": {
        "id": "2gqbT8tRLhTm"
      },
      "outputs": [],
      "source": [
        "import numpy as np\n",
        "from sklearn.decomposition import NMF\n",
        "\n",
        "X = np.array([[1, 1], [1, 2.5], [3.5, 6], [4, 1], [8, 9], [5.55, 6.7]])\n"
      ]
    },
    {
      "cell_type": "code",
      "execution_count": 8,
      "metadata": {
        "id": "RtS2FE-RN-zE"
      },
      "outputs": [],
      "source": [
        "model = NMF(n_components=2,init='random',random_state = 0)\n"
      ]
    },
    {
      "cell_type": "markdown",
      "metadata": {
        "id": "b28lLCI9Vbmh"
      },
      "source": [
        "The code creates an instance of the Non-Negative Matrix Factorization (NMF) model with the following settings:\n",
        "\n",
        "1. Number of components: 2 (n_components=2)\n",
        "2. Initialization method: Random (init='random')\n",
        "3. Random seed for reproducibility: 0 (random_state=0)\n",
        "\n",
        "This NMF model is commonly used for decomposing input data into two non-negative matrices, aiming for dimensionality reduction or feature extraction."
      ]
    },
    {
      "cell_type": "code",
      "execution_count": 9,
      "metadata": {
        "id": "P52lvdvMOKv2"
      },
      "outputs": [],
      "source": [
        "W = model.fit_transform(X)\n",
        "H = model.components_\n"
      ]
    },
    {
      "cell_type": "code",
      "execution_count": 20,
      "metadata": {
        "colab": {
          "base_uri": "https://localhost:8080/"
        },
        "id": "zmz-D2AZObOg",
        "outputId": "5ed34942-0d9b-4722-cddc-8f4975cafafa"
      },
      "outputs": [
        {
          "name": "stdout",
          "output_type": "stream",
          "text": [
            "W matrix :\n",
            "[[0.43534525 0.20160064]\n",
            " [0.2021956  0.60519948]\n",
            " [1.13512562 1.37826697]\n",
            " [2.20661127 0.        ]\n",
            " [3.32732889 1.88187098]\n",
            " [2.23741806 1.42830931]]\n",
            "\n",
            "H matrix :\n",
            "[[1.81249187 0.45409485]\n",
            " [1.04651739 3.97948705]]\n",
            "\n",
            "W x H Matrix :\n",
            "[[1.0000383  0.99995515]\n",
            " [0.99982966 2.50019948]\n",
            " [3.4997863  6.00025025]\n",
            " [3.999465   1.00201081]\n",
            " [8.00016728 8.99980411]\n",
            " [5.55005259 6.69993842]]\n",
            "\n",
            "Initial X matrix :\n",
            "[[1.   1.  ]\n",
            " [1.   2.5 ]\n",
            " [3.5  6.  ]\n",
            " [4.   1.  ]\n",
            " [8.   9.  ]\n",
            " [5.55 6.7 ]]\n"
          ]
        }
      ],
      "source": [
        "print(\"W matrix :\")\n",
        "print(W)\n",
        "print(\"\\nH matrix :\")\n",
        "print(H)\n",
        "print(\"\\nW x H Matrix :\")\n",
        "print(np.dot(W,H))\n",
        "print(\"\\nInitial X matrix :\")\n",
        "print(X)"
      ]
    },
    {
      "cell_type": "code",
      "execution_count": null,
      "metadata": {
        "id": "AeT-gZB1PYfr"
      },
      "outputs": [],
      "source": []
    }
  ],
  "metadata": {
    "colab": {
      "authorship_tag": "ABX9TyNR0LTMXLZYAqLUXwut4fPk",
      "include_colab_link": true,
      "provenance": []
    },
    "kernelspec": {
      "display_name": "Python 3",
      "name": "python3"
    },
    "language_info": {
      "name": "python"
    }
  },
  "nbformat": 4,
  "nbformat_minor": 0
}
