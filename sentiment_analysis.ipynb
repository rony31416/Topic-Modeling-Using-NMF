{
  "nbformat": 4,
  "nbformat_minor": 0,
  "metadata": {
    "colab": {
      "provenance": [],
      "authorship_tag": "ABX9TyMxJkX3+NikEmGWQdQlBhkv"
    },
    "kernelspec": {
      "name": "python3",
      "display_name": "Python 3"
    },
    "language_info": {
      "name": "python"
    }
  },
  "cells": [
    {
      "cell_type": "markdown",
      "source": [
        "# **Sentiment Analysis**\n",
        "\n",
        "* **What is Sentiment Analysis?**\n",
        "\n",
        "Sentiment analysis is the process of evaluating digital text to determine whether its emotional tone is positive, negative, or neutral. It is employed by companies to analyze large volumes of text data, such as emails, social media comments, and reviews, to gain insights into customer attitudes and enhance customer service.\n",
        "\n",
        "*   **Why is Sentiment Analysis Important?**\n",
        "\n",
        "Sentiment analysis is crucial for providing objective insights, improving products and services based on customer feedback, analyzing data at scale, and obtaining real-time results for quick decision-making. It helps businesses enhance customer service, monitor brand reputation, conduct market research, and track the performance of marketing campaigns.\n",
        "\n",
        "\n",
        "\n",
        "*   **How Does Sentiment Analysis Work?**\n",
        "\n",
        "Sentiment analysis utilizes natural language processing (NLP) technologies to understand text similarly to humans. The process involves preprocessing text by tokenization, lemmatization, and stop-word removal, followed by keyword analysis and sentiment scoring. There are three main approaches: rule-based, machine learning (ML), and hybrid.\n",
        "\n",
        "\n",
        "\n",
        "\n",
        "\n",
        "\n"
      ],
      "metadata": {
        "id": "ckNxzIs4BlWx"
      }
    },
    {
      "cell_type": "code",
      "source": [
        "import string\n",
        "from collections import Counter\n",
        "from nltk.tokenize import word_tokenize\n",
        "from nltk.corpus import stopwords\n",
        "from nltk.sentiment.vader import SentimentIntensityAnalyzer\n",
        "import matplotlib.pyplot as plt"
      ],
      "metadata": {
        "id": "BhBqVpl3FZHF"
      },
      "execution_count": null,
      "outputs": []
    },
    {
      "cell_type": "code",
      "source": [
        "text = open('/content/sample_data/read.txt',encoding='utf-8').read()\n",
        "lower_case = text.lower()"
      ],
      "metadata": {
        "id": "JdNlYiBbFfMm"
      },
      "execution_count": null,
      "outputs": []
    },
    {
      "cell_type": "code",
      "source": [
        "import nltk\n",
        "nltk.download('punkt')\n",
        "nltk.download('stopwords')"
      ],
      "metadata": {
        "colab": {
          "base_uri": "https://localhost:8080/"
        },
        "id": "8ytyqIsLGPjt",
        "outputId": "df53fd09-43f8-414c-b24b-4fd2ca1b7efc"
      },
      "execution_count": null,
      "outputs": [
        {
          "output_type": "stream",
          "name": "stderr",
          "text": [
            "[nltk_data] Downloading package punkt to /root/nltk_data...\n",
            "[nltk_data]   Package punkt is already up-to-date!\n",
            "[nltk_data] Downloading package stopwords to /root/nltk_data...\n",
            "[nltk_data]   Unzipping corpora/stopwords.zip.\n"
          ]
        },
        {
          "output_type": "execute_result",
          "data": {
            "text/plain": [
              "True"
            ]
          },
          "metadata": {},
          "execution_count": 12
        }
      ]
    },
    {
      "cell_type": "code",
      "source": [
        "lower_case = text.lower()\n",
        "\n",
        "pun = string.punctuation\n",
        "\n",
        "clean_text = lower_case.translate(str.maketrans('','',pun))\n",
        "tokenized_word = word_tokenize(clean_text,\"english\")\n"
      ],
      "metadata": {
        "id": "q1lRBTIBGC0Y"
      },
      "execution_count": null,
      "outputs": []
    },
    {
      "cell_type": "code",
      "source": [
        "final_words = []\n",
        "\n",
        "for word in tokenized_word :\n",
        "    if word not in stopwords.words(\"english\"):\n",
        "        final_words.append(word)\n",
        "\n",
        "print(\"\\n\\n\\nFinal Words :\\n\" )\n",
        "print(final_words)"
      ],
      "metadata": {
        "colab": {
          "base_uri": "https://localhost:8080/"
        },
        "id": "3pzGCAM1Gak7",
        "outputId": "a9ac48b3-89c7-4a01-a327-0625a4ece4ef"
      },
      "execution_count": null,
      "outputs": [
        {
          "output_type": "stream",
          "name": "stdout",
          "text": [
            "\n",
            "\n",
            "\n",
            "Final Words :\n",
            "\n",
            "['honored', 'today', 'commencement', 'one', 'finest', 'universities', 'world', 'never', 'graduated', 'college', 'truth', 'told', 'closest', '’', 'ever', 'gotten', 'college', 'graduation', 'today', 'want', 'tell', 'three', 'stories', 'life', '’', 'big', 'deal', 'three', 'stories', 'related', 'story', '2005', 'stanford', 'commencement', 'coverage', 'first', 'story', 'connecting', 'dots', 'dropped', 'reed', 'college', 'first', '6', 'months', 'stayed', 'around', 'dropin', 'another', '18', 'months', 'really', 'quit', 'drop', 'started', 'born', 'biological', 'mother', 'young', 'unwed', 'college', 'graduate', 'student', 'decided', 'put', 'adoption', 'felt', 'strongly', 'adopted', 'college', 'graduates', 'everything', 'set', 'adopted', 'birth', 'lawyer', 'wife', 'except', 'popped', 'decided', 'last', 'minute', 'really', 'wanted', 'girl', 'parents', 'waiting', 'list', 'got', 'call', 'middle', 'night', 'asking', '“', 'unexpected', 'baby', 'boy', 'want', '”', 'said', '“', 'course', '”', 'biological', 'mother', 'later', 'found', 'mother', 'never', 'graduated', 'college', 'father', 'never', 'graduated', 'high', 'school', 'refused', 'sign', 'final', 'adoption', 'papers', 'relented', 'months', 'later', 'parents', 'promised', 'would', 'someday', 'go', 'college', '17', 'years', 'later', 'go', 'college', 'naively', 'chose', 'college', 'almost', 'expensive', 'stanford', 'workingclass', 'parents', '’', 'savings', 'spent', 'college', 'tuition', 'six', 'months', '’', 'see', 'value', 'idea', 'wanted', 'life', 'idea', 'college', 'going', 'help', 'figure', 'spending', 'money', 'parents', 'saved', 'entire', 'life', 'decided', 'drop', 'trust', 'would', 'work', 'ok', 'pretty', 'scary', 'time', 'looking', 'back', 'one', 'best', 'decisions', 'ever', 'made', 'minute', 'dropped', 'could', 'stop', 'taking', 'required', 'classes', '’', 'interest', 'begin', 'dropping', 'ones', 'looked', 'interesting', '’', 'romantic', '’', 'dorm', 'room', 'slept', 'floor', 'friends', '’', 'rooms', 'returned', 'coke', 'bottles', '5¢', 'deposits', 'buy', 'food', 'would', 'walk', '7', 'miles', 'across', 'town', 'every', 'sunday', 'night', 'get', 'one', 'good', 'meal', 'week', 'hare', 'krishna', 'temple', 'loved', 'much', 'stumbled', 'following', 'curiosity', 'intuition', 'turned', 'priceless', 'later', 'let', 'give', 'one', 'example', 'reed', 'college', 'time', 'offered', 'perhaps', 'best', 'calligraphy', 'instruction', 'country', 'throughout', 'campus', 'every', 'poster', 'every', 'label', 'every', 'drawer', 'beautifully', 'hand', 'calligraphed', 'dropped', '’', 'take', 'normal', 'classes', 'decided', 'take', 'calligraphy', 'class', 'learn', 'learned', 'serif', 'sans', 'serif', 'typefaces', 'varying', 'amount', 'space', 'different', 'letter', 'combinations', 'makes', 'great', 'typography', 'great', 'beautiful', 'historical', 'artistically', 'subtle', 'way', 'science', '’', 'capture', 'found', 'fascinating', 'none', 'even', 'hope', 'practical', 'application', 'life', '10', 'years', 'later', 'designing', 'first', 'macintosh', 'computer', 'came', 'back', 'designed', 'mac', 'first', 'computer', 'beautiful', 'typography', 'never', 'dropped', 'single', 'course', 'college', 'mac', 'would', 'never', 'multiple', 'typefaces', 'proportionally', 'spaced', 'fonts', 'since', 'windows', 'copied', 'mac', '’', 'likely', 'personal', 'computer', 'would', 'never', 'dropped', 'would', 'never', 'dropped', 'calligraphy', 'class', 'personal', 'computers', 'might', 'wonderful', 'typography', 'course', 'impossible', 'connect', 'dots', 'looking', 'forward', 'college', 'clear', 'looking', 'backward', '10', 'years', 'later', '’', 'connect', 'dots', 'looking', 'forward', 'connect', 'looking', 'backward', 'trust', 'dots', 'somehow', 'connect', 'future', 'trust', 'something', '—', 'gut', 'destiny', 'life', 'karma', 'whatever', 'approach', 'never', 'let', 'made', 'difference', 'life', 'second', 'story', 'love', 'loss', 'lucky', '—', 'found', 'loved', 'early', 'life', 'woz', 'started', 'apple', 'parents', '’', 'garage', '20', 'worked', 'hard', '10', 'years', 'apple', 'grown', 'two', 'us', 'garage', '2', 'billion', 'company', '4000', 'employees', 'released', 'finest', 'creation', '—', 'macintosh', '—', 'year', 'earlier', 'turned', '30', 'got', 'fired', 'get', 'fired', 'company', 'started', 'well', 'apple', 'grew', 'hired', 'someone', 'thought', 'talented', 'run', 'company', 'first', 'year', 'things', 'went', 'well', 'visions', 'future', 'began', 'diverge', 'eventually', 'falling', 'board', 'directors', 'sided', '30', 'publicly', 'focus', 'entire', 'adult', 'life', 'gone', 'devastating', 'really', '’', 'know', 'months', 'felt', 'let', 'previous', 'generation', 'entrepreneurs', '—', 'dropped', 'baton', 'passed', 'met', 'david', 'packard', 'bob', 'noyce', 'tried', 'apologize', 'screwing', 'badly', 'public', 'failure', 'even', 'thought', 'running', 'away', 'valley', 'something', 'slowly', 'began', 'dawn', '—', 'still', 'loved', 'turn', 'events', 'apple', 'changed', 'one', 'bit', 'rejected', 'still', 'love', 'decided', 'start', '’', 'see', 'turned', 'getting', 'fired', 'apple', 'best', 'thing', 'could', 'ever', 'happened', 'heaviness', 'successful', 'replaced', 'lightness', 'beginner', 'less', 'sure', 'everything', 'freed', 'enter', 'one', 'creative', 'periods', 'life', 'next', 'five', 'years', 'started', 'company', 'named', 'next', 'another', 'company', 'named', 'pixar', 'fell', 'love', 'amazing', 'woman', 'would', 'become', 'wife', 'pixar', 'went', 'create', 'world', '’', 'first', 'computer', 'animated', 'feature', 'film', 'toy', 'story', 'successful', 'animation', 'studio', 'world', 'remarkable', 'turn', 'events', 'apple', 'bought', 'next', 'returned', 'apple', 'technology', 'developed', 'next', 'heart', 'apple', '’', 'current', 'renaissance', 'laurene', 'wonderful', 'family', 'together', '’', 'pretty', 'sure', 'none', 'would', 'happened', '’', 'fired', 'apple', 'awful', 'tasting', 'medicine', 'guess', 'patient', 'needed', 'sometimes', 'life', 'hits', 'head', 'brick', '’', 'lose', 'faith', '’', 'convinced', 'thing', 'kept', 'going', 'loved', '’', 'got', 'find', 'love', 'true', 'work', 'lovers', 'work', 'going', 'fill', 'large', 'part', 'life', 'way', 'truly', 'satisfied', 'believe', 'great', 'work', 'way', 'great', 'work', 'love', '’', 'found', 'yet', 'keep', 'looking', '’', 'settle', 'matters', 'heart', '’', 'know', 'find', 'like', 'great', 'relationship', 'gets', 'better', 'better', 'years', 'roll', 'keep', 'looking', 'find', '’', 'settle', 'third', 'story', 'death', '17', 'read', 'quote', 'went', 'something', 'like', '“', 'live', 'day', 'last', 'someday', '’', 'certainly', 'right', '”', 'made', 'impression', 'since', 'past', '33', 'years', 'looked', 'mirror', 'every', 'morning', 'asked', '“', 'today', 'last', 'day', 'life', 'would', 'want', 'today', '”', 'whenever', 'answer', '“', '”', 'many', 'days', 'row', 'know', 'need', 'change', 'something', 'remembering', '’', 'dead', 'soon', 'important', 'tool', '’', 'ever', 'encountered', 'help', 'make', 'big', 'choices', 'life', 'almost', 'everything', '—', 'external', 'expectations', 'pride', 'fear', 'embarrassment', 'failure', '—', 'things', 'fall', 'away', 'face', 'death', 'leaving', 'truly', 'important', 'remembering', 'going', 'die', 'best', 'way', 'know', 'avoid', 'trap', 'thinking', 'something', 'lose', 'already', 'naked', 'reason', 'follow', 'heart', 'year', 'ago', 'diagnosed', 'cancer', 'scan', '730', 'morning', 'clearly', 'showed', 'tumor', 'pancreas', '’', 'even', 'know', 'pancreas', 'doctors', 'told', 'almost', 'certainly', 'type', 'cancer', 'incurable', 'expect', 'live', 'longer', 'three', 'six', 'months', 'doctor', 'advised', 'go', 'home', 'get', 'affairs', 'order', 'doctor', '’', 'code', 'prepare', 'die', 'means', 'try', 'tell', 'kids', 'everything', 'thought', '’', 'next', '10', 'years', 'tell', 'months', 'means', 'make', 'sure', 'everything', 'buttoned', 'easy', 'possible', 'family', 'means', 'say', 'goodbyes', 'lived', 'diagnosis', 'day', 'later', 'evening', 'biopsy', 'stuck', 'endoscope', 'throat', 'stomach', 'intestines', 'put', 'needle', 'pancreas', 'got', 'cells', 'tumor', 'sedated', 'wife', 'told', 'viewed', 'cells', 'microscope', 'doctors', 'started', 'crying', 'turned', 'rare', 'form', 'pancreatic', 'cancer', 'curable', 'surgery', 'surgery', '’', 'fine', 'closest', '’', 'facing', 'death', 'hope', '’', 'closest', 'get', 'decades', 'lived', 'say', 'bit', 'certainty', 'death', 'useful', 'purely', 'intellectual', 'concept', 'one', 'wants', 'die', 'even', 'people', 'want', 'go', 'heaven', '’', 'want', 'die', 'get', 'yet', 'death', 'destination', 'share', 'one', 'ever', 'escaped', 'death', 'likely', 'single', 'best', 'invention', 'life', 'life', '’', 'change', 'agent', 'clears', 'old', 'make', 'way', 'new', 'right', 'new', 'someday', 'long', 'gradually', 'become', 'old', 'cleared', 'away', 'sorry', 'dramatic', 'quite', 'true', 'time', 'limited', '’', 'waste', 'living', 'someone', 'else', '’', 'life', '’', 'trapped', 'dogma', '—', 'living', 'results', 'people', '’', 'thinking', '’', 'let', 'noise', 'others', '’', 'opinions', 'drown', 'inner', 'voice', 'important', 'courage', 'follow', 'heart', 'intuition', 'somehow', 'already', 'know', 'truly', 'want', 'become', 'everything', 'else', 'secondary', 'young', 'amazing', 'publication', 'called', 'whole', 'earth', 'catalog', 'one', 'bibles', 'generation', 'created', 'fellow', 'named', 'stewart', 'brand', 'far', 'menlo', 'park', 'brought', 'life', 'poetic', 'touch', 'late', '1960s', 'personal', 'computers', 'desktop', 'publishing', 'made', 'typewriters', 'scissors', 'polaroid', 'cameras', 'sort', 'like', 'google', 'paperback', 'form', '35', 'years', 'google', 'came', 'along', 'idealistic', 'overflowing', 'neat', 'tools', 'great', 'notions', 'stewart', 'team', 'put', 'several', 'issues', 'whole', 'earth', 'catalog', 'run', 'course', 'put', 'final', 'issue', 'mid1970s', 'age', 'back', 'cover', 'final', 'issue', 'photograph', 'early', 'morning', 'country', 'road', 'kind', 'might', 'find', 'hitchhiking', 'adventurous', 'beneath', 'words', '“', 'stay', 'hungry', 'stay', 'foolish', '”', 'farewell', 'message', 'signed', 'stay', 'hungry', 'stay', 'foolish', 'always', 'wished', 'graduate', 'begin', 'anew', 'wish', 'stay', 'hungry', 'stay', 'foolish', 'thank', 'much']\n"
          ]
        }
      ]
    },
    {
      "cell_type": "code",
      "source": [
        "\n",
        "emosion_list1 = []\n",
        "emotion_list2 = []\n",
        "#list one for store word->emosion relation\n",
        "#list2 store only emosion\n",
        "\n",
        "#lets include emotion file\n",
        "with open('/content/sample_data/emotions.txt','r') as file:\n",
        "    for line in file:\n",
        "        clear_line = line.replace(\"\\n\",'').replace(\",\",'').replace(\"'\",'').strip()\n",
        "        word,emotion = clear_line.split(':')\n",
        "       # print(\"word \"+ word + \" \"+ \"Emotion : \"+emotion)\n",
        "        if(word in final_words):\n",
        "            emosion_list1.append(word+\" -> \"+emotion)\n",
        "            emotion_list2.append(emotion)\n",
        "\n",
        "\n",
        "print(\"\\n\\n\\nDetected Emosions : \")\n",
        "for w in emosion_list1:\n",
        "    print(w +\"\\n\")\n"
      ],
      "metadata": {
        "colab": {
          "base_uri": "https://localhost:8080/"
        },
        "id": "Dn4J8WZFGr-0",
        "outputId": "6a68a0e4-1ba6-423d-9b13-d0013405838c"
      },
      "execution_count": null,
      "outputs": [
        {
          "output_type": "stream",
          "name": "stdout",
          "text": [
            "\n",
            "\n",
            "\n",
            "Detected Emosions : \n",
            "animated ->  happy\n",
            "\n",
            "important ->  happy\n",
            "\n",
            "loved ->  attached\n",
            "\n",
            "lucky ->  happy\n",
            "\n",
            "needed ->  attracted\n",
            "\n",
            "rejected ->  alone\n",
            "\n",
            "released ->  free\n",
            "\n",
            "replaced ->  hated\n",
            "\n",
            "satisfied ->  happy\n",
            "\n",
            "trapped ->  entitled\n",
            "\n",
            "great ->  happy\n",
            "\n",
            "loved ->  loved\n",
            "\n",
            "rejected ->  hated\n",
            "\n",
            "trapped ->  entitled\n",
            "\n"
          ]
        }
      ]
    },
    {
      "cell_type": "code",
      "source": [
        "w = Counter(emotion_list2)\n",
        "print(w)"
      ],
      "metadata": {
        "colab": {
          "base_uri": "https://localhost:8080/"
        },
        "id": "cahKoAiBG15W",
        "outputId": "db75329a-8c02-4d78-b33a-ebe5b2c29d6a"
      },
      "execution_count": null,
      "outputs": [
        {
          "output_type": "stream",
          "name": "stdout",
          "text": [
            "Counter({' happy': 5, ' hated': 2, ' entitled': 2, ' attached': 1, ' attracted': 1, ' alone': 1, ' free': 1, ' loved': 1})\n"
          ]
        }
      ]
    },
    {
      "cell_type": "code",
      "source": [
        "nltk.download('vader_lexicon')"
      ],
      "metadata": {
        "colab": {
          "base_uri": "https://localhost:8080/"
        },
        "id": "w8j-MQ29HGUh",
        "outputId": "689c0bc3-dd2b-4dc6-a1e9-6715d301fc97"
      },
      "execution_count": null,
      "outputs": [
        {
          "output_type": "stream",
          "name": "stderr",
          "text": [
            "[nltk_data] Downloading package vader_lexicon to /root/nltk_data...\n"
          ]
        },
        {
          "output_type": "execute_result",
          "data": {
            "text/plain": [
              "True"
            ]
          },
          "metadata": {},
          "execution_count": 20
        }
      ]
    },
    {
      "cell_type": "code",
      "source": [
        "\n",
        "def sentiment_analyzer(sentiment_text):\n",
        "    score = SentimentIntensityAnalyzer().polarity_scores(sentiment_text)\n",
        "    print(score)\n",
        "    negative = score['neg']\n",
        "    positive = score['pos']\n",
        "    if positive > negative :\n",
        "        print(\"Positive Sentiment\\n\")\n",
        "    elif negative > positive :\n",
        "        print(\"Negative Sentiment\\n\")\n",
        "    else :\n",
        "        print(\"Neutral \\n\")\n",
        "\n",
        "sentiment_analyzer(clean_text)\n"
      ],
      "metadata": {
        "colab": {
          "base_uri": "https://localhost:8080/"
        },
        "id": "ABkPEPwUG7A6",
        "outputId": "4c7c9155-6a36-47b2-d202-a6a79792a441"
      },
      "execution_count": null,
      "outputs": [
        {
          "output_type": "stream",
          "name": "stdout",
          "text": [
            "{'neg': 0.091, 'neu': 0.747, 'pos': 0.162, 'compound': 0.9996}\n",
            "Positive Sentiment\n",
            "\n"
          ]
        }
      ]
    },
    {
      "cell_type": "code",
      "source": [
        "fig , ax1 = plt.subplots()\n",
        "ax1.bar(w.keys(),w.values())\n",
        "fig.autofmt_xdate()\n",
        "plt.savefig('graph.png')\n",
        "plt.show()"
      ],
      "metadata": {
        "id": "IU6L9w3GHK1q",
        "outputId": "10869b70-4f0c-4d3d-9c89-c702e05474de",
        "colab": {
          "base_uri": "https://localhost:8080/",
          "height": 419
        }
      },
      "execution_count": null,
      "outputs": [
        {
          "output_type": "display_data",
          "data": {
            "text/plain": [
              "<Figure size 640x480 with 1 Axes>"
            ],
            "image/png": "[encoded data removed]"
          },
          "metadata": {}
        }
      ]
    }
  ]
}