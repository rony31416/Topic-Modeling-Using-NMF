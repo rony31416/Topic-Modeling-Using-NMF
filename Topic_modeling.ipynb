{
  "nbformat": 4,
  "nbformat_minor": 0,
  "metadata": {
    "colab": {
      "provenance": [],
      "authorship_tag": "ABX9TyMIvK/7JEXwZOjAi8t+AL2R"
    },
    "kernelspec": {
      "name": "python3",
      "display_name": "Python 3"
    },
    "language_info": {
      "name": "python"
    }
  },
  "cells": [
    {
      "cell_type": "code",
      "execution_count": 1,
      "metadata": {
        "id": "RN10_cbgfUO0"
      },
      "outputs": [],
      "source": [
        "#https://scikit-learn.org/0.19/datasets/twenty_newsgroups.html\n",
        "\n",
        "import numpy as np\n",
        "from sklearn.datasets import fetch_20newsgroups\n",
        "from sklearn.feature_extraction.text import TfidfVectorizer\n",
        "from sklearn.decomposition import NMF"
      ]
    },
    {
      "cell_type": "code",
      "source": [
        "data= fetch_20newsgroups(remove=('headers', 'footers', 'quotes')).data\n"
      ],
      "metadata": {
        "id": "g8X9wF66uTtW"
      },
      "execution_count": 2,
      "outputs": []
    },
    {
      "cell_type": "code",
      "source": [
        "vectorizer = TfidfVectorizer(max_features=2000, min_df=10, stop_words='english')\n",
        "X = vectorizer.fit_transform(data)\n",
        "\n",
        "idx_to_word = np.array(vectorizer.get_feature_names_out())\n",
        "\n",
        "\n",
        "# apply NMF\n",
        "\n",
        "nmf = NMF(n_components=20, solver=\"mu\")\n",
        "W = nmf.fit_transform(X)\n",
        "H = nmf.components_"
      ],
      "metadata": {
        "id": "AwY8y545ul0e"
      },
      "execution_count": 5,
      "outputs": []
    },
    {
      "cell_type": "code",
      "source": [
        "\n",
        "for i, topic in enumerate(H):\n",
        "    print(\"Topic {}: {}\".format(i + 1, \",\".join([str(x) for x in idx_to_word[topic.argsort()[-10:]]])))\n"
      ],
      "metadata": {
        "colab": {
          "base_uri": "https://localhost:8080/"
        },
        "id": "_FPLkc1swlW0",
        "outputId": "7c725c52-2504-419a-9112-1817b42f860c"
      },
      "execution_count": 6,
      "outputs": [
        {
          "output_type": "stream",
          "name": "stdout",
          "text": [
            "Topic 1: state,gun,say,make,said,government,did,right,time,people\n",
            "Topic 2: email,information,address,help,info,looking,hi,advance,mail,thanks\n",
            "Topic 3: lord,church,christians,christian,faith,believe,christ,bible,jesus,god\n",
            "Topic 4: nsa,public,algorithm,escrow,government,keys,clipper,encryption,chip,key\n",
            "Topic 5: mac,cd,floppy,controller,ide,hard,disk,drives,scsi,drive\n",
            "Topic 6: 20,condition,price,shipping,offer,space,10,sale,new,00\n",
            "Topic 7: code,display,motif,application,server,program,using,problem,window,use\n",
            "Topic 8: league,win,hockey,play,players,season,games,year,team,game\n",
            "Topic 9: cc,ftp,article,university,cs,soon,banks,gordon,pitt,edu\n",
            "Topic 10: oil,buy,speed,miles,dealer,engine,good,cars,bike,car\n",
            "Topic 11: memory,color,driver,drivers,vga,bus,cards,monitor,video,card\n",
            "Topic 12: appreciated,exactly,exist,help,say,doesn,mean,anybody,know,does\n",
            "Topic 13: mean,wanted,maybe,little,oh,work,thought,wondering,ll,just\n",
            "Topic 14: running,driver,nt,os,microsoft,drivers,version,ms,dos,windows\n",
            "Topic 15: image,gif,pub,program,zip,format,directory,ftp,files,file\n",
            "Topic 16: thing,really,things,make,sound,lot,look,looks,sounds,like\n",
            "Topic 17: sun,phone,email,bob,address,internet,dave,article,list,com\n",
            "Topic 18: try,use,little,work,sorry,need,let,want,know,don\n",
            "Topic 19: makes,bit,say,agree,science,wrong,space,lot,israel,think\n",
            "Topic 20: times,recently,try,years,good,tried,heard,seen,got,ve\n"
          ]
        }
      ]
    }
  ]
}